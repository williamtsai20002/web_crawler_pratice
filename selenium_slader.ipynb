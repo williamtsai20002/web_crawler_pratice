{
 "cells": [
  {
   "cell_type": "code",
   "execution_count": 1,
   "metadata": {},
   "outputs": [],
   "source": [
    "import time, re\n",
    "import requests\n",
    "from bs4 import BeautifulSoup as bs\n",
    "from selenium import webdriver\n",
    "from selenium.webdriver.common.keys import Keys"
   ]
  },
  {
   "cell_type": "code",
   "execution_count": 2,
   "metadata": {},
   "outputs": [],
   "source": [
    "pendant = \"https://www.slader.com\"\n",
    "chrome_path = \"/Users/DCT/Desktop/chromedriver_win32/chromedriver\"\n",
    "file_path = \"C:/Users/DCT/Desktop/slader_textbook\"\n",
    "book_list = [\"algorithm\",\"calculus\"] # store book name\n",
    "book_url = [] #stor book url"
   ]
  },
  {
   "cell_type": "code",
   "execution_count": 3,
   "metadata": {},
   "outputs": [],
   "source": [
    "import os, stat\n",
    "import urllib.request\n",
    "\n",
    "def download_img(dir_path, name, url):\n",
    "    try:\n",
    "        if not os.path.exists(dir_path): # make the file if not exist\n",
    "            os.makedirs(dir_path)\n",
    "        #suffix = \".\" + url.split(\".\")[-1]\n",
    "        suffix = \".jpg\"\n",
    "        file_name = \"{}{}{}{}\".format(dir_path, os.sep, name, suffix)\n",
    "        urllib.request.urlretrieve(url, file_name)\n",
    "        print(file_name)\n",
    "        return True\n",
    "    except:\n",
    "        print(\"download_img error, dir_path : \", dir_path)\n",
    "        return False"
   ]
  },
  {
   "cell_type": "code",
   "execution_count": 4,
   "metadata": {},
   "outputs": [],
   "source": [
    "wd = webdriver.Chrome(chrome_path)\n",
    "wd.get(pendant)"
   ]
  },
  {
   "cell_type": "code",
   "execution_count": 5,
   "metadata": {},
   "outputs": [
    {
     "ename": "WebDriverException",
     "evalue": "Message: chrome not reachable\n  (Session info: chrome=78.0.3904.108)\n",
     "output_type": "error",
     "traceback": [
      "\u001b[1;31m---------------------------------------------------------------------------\u001b[0m",
      "\u001b[1;31mWebDriverException\u001b[0m                        Traceback (most recent call last)",
      "\u001b[1;32m<ipython-input-5-43547caae437>\u001b[0m in \u001b[0;36m<module>\u001b[1;34m()\u001b[0m\n\u001b[0;32m      7\u001b[0m \u001b[0mblank_search\u001b[0m\u001b[1;33m[\u001b[0m\u001b[1;36m1\u001b[0m\u001b[1;33m]\u001b[0m\u001b[1;33m.\u001b[0m\u001b[0msend_keys\u001b[0m\u001b[1;33m(\u001b[0m\u001b[0mKeys\u001b[0m\u001b[1;33m.\u001b[0m\u001b[0mRETURN\u001b[0m\u001b[1;33m)\u001b[0m \u001b[1;31m# go to https://www.slader.com/search/?search_query=\u001b[0m\u001b[1;33m\u001b[0m\u001b[0m\n\u001b[0;32m      8\u001b[0m \u001b[1;33m\u001b[0m\u001b[0m\n\u001b[1;32m----> 9\u001b[1;33m \u001b[0msearch_ele\u001b[0m \u001b[1;33m=\u001b[0m \u001b[0mwd\u001b[0m\u001b[1;33m.\u001b[0m\u001b[0mfind_element_by_id\u001b[0m\u001b[1;33m(\u001b[0m\u001b[1;34m\"search-input\"\u001b[0m\u001b[1;33m)\u001b[0m \u001b[1;31m# find the search column\u001b[0m\u001b[1;33m\u001b[0m\u001b[0m\n\u001b[0m\u001b[0;32m     10\u001b[0m \u001b[1;32mfor\u001b[0m \u001b[0mbook\u001b[0m \u001b[1;32min\u001b[0m \u001b[0mbook_list\u001b[0m\u001b[1;33m:\u001b[0m\u001b[1;33m\u001b[0m\u001b[0m\n\u001b[0;32m     11\u001b[0m     \u001b[0msearch_ele\u001b[0m\u001b[1;33m.\u001b[0m\u001b[0mclear\u001b[0m\u001b[1;33m(\u001b[0m\u001b[1;33m)\u001b[0m\u001b[1;33m\u001b[0m\u001b[0m\n",
      "\u001b[1;32mD:\\Jupyter\\lib\\site-packages\\selenium\\webdriver\\remote\\webdriver.py\u001b[0m in \u001b[0;36mfind_element_by_id\u001b[1;34m(self, id_)\u001b[0m\n\u001b[0;32m    358\u001b[0m             \u001b[0melement\u001b[0m \u001b[1;33m=\u001b[0m \u001b[0mdriver\u001b[0m\u001b[1;33m.\u001b[0m\u001b[0mfind_element_by_id\u001b[0m\u001b[1;33m(\u001b[0m\u001b[1;34m'foo'\u001b[0m\u001b[1;33m)\u001b[0m\u001b[1;33m\u001b[0m\u001b[0m\n\u001b[0;32m    359\u001b[0m         \"\"\"\n\u001b[1;32m--> 360\u001b[1;33m         \u001b[1;32mreturn\u001b[0m \u001b[0mself\u001b[0m\u001b[1;33m.\u001b[0m\u001b[0mfind_element\u001b[0m\u001b[1;33m(\u001b[0m\u001b[0mby\u001b[0m\u001b[1;33m=\u001b[0m\u001b[0mBy\u001b[0m\u001b[1;33m.\u001b[0m\u001b[0mID\u001b[0m\u001b[1;33m,\u001b[0m \u001b[0mvalue\u001b[0m\u001b[1;33m=\u001b[0m\u001b[0mid_\u001b[0m\u001b[1;33m)\u001b[0m\u001b[1;33m\u001b[0m\u001b[0m\n\u001b[0m\u001b[0;32m    361\u001b[0m \u001b[1;33m\u001b[0m\u001b[0m\n\u001b[0;32m    362\u001b[0m     \u001b[1;32mdef\u001b[0m \u001b[0mfind_elements_by_id\u001b[0m\u001b[1;33m(\u001b[0m\u001b[0mself\u001b[0m\u001b[1;33m,\u001b[0m \u001b[0mid_\u001b[0m\u001b[1;33m)\u001b[0m\u001b[1;33m:\u001b[0m\u001b[1;33m\u001b[0m\u001b[0m\n",
      "\u001b[1;32mD:\\Jupyter\\lib\\site-packages\\selenium\\webdriver\\remote\\webdriver.py\u001b[0m in \u001b[0;36mfind_element\u001b[1;34m(self, by, value)\u001b[0m\n\u001b[0;32m    976\u001b[0m         return self.execute(Command.FIND_ELEMENT, {\n\u001b[0;32m    977\u001b[0m             \u001b[1;34m'using'\u001b[0m\u001b[1;33m:\u001b[0m \u001b[0mby\u001b[0m\u001b[1;33m,\u001b[0m\u001b[1;33m\u001b[0m\u001b[0m\n\u001b[1;32m--> 978\u001b[1;33m             'value': value})['value']\n\u001b[0m\u001b[0;32m    979\u001b[0m \u001b[1;33m\u001b[0m\u001b[0m\n\u001b[0;32m    980\u001b[0m     \u001b[1;32mdef\u001b[0m \u001b[0mfind_elements\u001b[0m\u001b[1;33m(\u001b[0m\u001b[0mself\u001b[0m\u001b[1;33m,\u001b[0m \u001b[0mby\u001b[0m\u001b[1;33m=\u001b[0m\u001b[0mBy\u001b[0m\u001b[1;33m.\u001b[0m\u001b[0mID\u001b[0m\u001b[1;33m,\u001b[0m \u001b[0mvalue\u001b[0m\u001b[1;33m=\u001b[0m\u001b[1;32mNone\u001b[0m\u001b[1;33m)\u001b[0m\u001b[1;33m:\u001b[0m\u001b[1;33m\u001b[0m\u001b[0m\n",
      "\u001b[1;32mD:\\Jupyter\\lib\\site-packages\\selenium\\webdriver\\remote\\webdriver.py\u001b[0m in \u001b[0;36mexecute\u001b[1;34m(self, driver_command, params)\u001b[0m\n\u001b[0;32m    319\u001b[0m         \u001b[0mresponse\u001b[0m \u001b[1;33m=\u001b[0m \u001b[0mself\u001b[0m\u001b[1;33m.\u001b[0m\u001b[0mcommand_executor\u001b[0m\u001b[1;33m.\u001b[0m\u001b[0mexecute\u001b[0m\u001b[1;33m(\u001b[0m\u001b[0mdriver_command\u001b[0m\u001b[1;33m,\u001b[0m \u001b[0mparams\u001b[0m\u001b[1;33m)\u001b[0m\u001b[1;33m\u001b[0m\u001b[0m\n\u001b[0;32m    320\u001b[0m         \u001b[1;32mif\u001b[0m \u001b[0mresponse\u001b[0m\u001b[1;33m:\u001b[0m\u001b[1;33m\u001b[0m\u001b[0m\n\u001b[1;32m--> 321\u001b[1;33m             \u001b[0mself\u001b[0m\u001b[1;33m.\u001b[0m\u001b[0merror_handler\u001b[0m\u001b[1;33m.\u001b[0m\u001b[0mcheck_response\u001b[0m\u001b[1;33m(\u001b[0m\u001b[0mresponse\u001b[0m\u001b[1;33m)\u001b[0m\u001b[1;33m\u001b[0m\u001b[0m\n\u001b[0m\u001b[0;32m    322\u001b[0m             response['value'] = self._unwrap_value(\n\u001b[0;32m    323\u001b[0m                 response.get('value', None))\n",
      "\u001b[1;32mD:\\Jupyter\\lib\\site-packages\\selenium\\webdriver\\remote\\errorhandler.py\u001b[0m in \u001b[0;36mcheck_response\u001b[1;34m(self, response)\u001b[0m\n\u001b[0;32m    240\u001b[0m                 \u001b[0malert_text\u001b[0m \u001b[1;33m=\u001b[0m \u001b[0mvalue\u001b[0m\u001b[1;33m[\u001b[0m\u001b[1;34m'alert'\u001b[0m\u001b[1;33m]\u001b[0m\u001b[1;33m.\u001b[0m\u001b[0mget\u001b[0m\u001b[1;33m(\u001b[0m\u001b[1;34m'text'\u001b[0m\u001b[1;33m)\u001b[0m\u001b[1;33m\u001b[0m\u001b[0m\n\u001b[0;32m    241\u001b[0m             \u001b[1;32mraise\u001b[0m \u001b[0mexception_class\u001b[0m\u001b[1;33m(\u001b[0m\u001b[0mmessage\u001b[0m\u001b[1;33m,\u001b[0m \u001b[0mscreen\u001b[0m\u001b[1;33m,\u001b[0m \u001b[0mstacktrace\u001b[0m\u001b[1;33m,\u001b[0m \u001b[0malert_text\u001b[0m\u001b[1;33m)\u001b[0m\u001b[1;33m\u001b[0m\u001b[0m\n\u001b[1;32m--> 242\u001b[1;33m         \u001b[1;32mraise\u001b[0m \u001b[0mexception_class\u001b[0m\u001b[1;33m(\u001b[0m\u001b[0mmessage\u001b[0m\u001b[1;33m,\u001b[0m \u001b[0mscreen\u001b[0m\u001b[1;33m,\u001b[0m \u001b[0mstacktrace\u001b[0m\u001b[1;33m)\u001b[0m\u001b[1;33m\u001b[0m\u001b[0m\n\u001b[0m\u001b[0;32m    243\u001b[0m \u001b[1;33m\u001b[0m\u001b[0m\n\u001b[0;32m    244\u001b[0m     \u001b[1;32mdef\u001b[0m \u001b[0m_value_or_default\u001b[0m\u001b[1;33m(\u001b[0m\u001b[0mself\u001b[0m\u001b[1;33m,\u001b[0m \u001b[0mobj\u001b[0m\u001b[1;33m,\u001b[0m \u001b[0mkey\u001b[0m\u001b[1;33m,\u001b[0m \u001b[0mdefault\u001b[0m\u001b[1;33m)\u001b[0m\u001b[1;33m:\u001b[0m\u001b[1;33m\u001b[0m\u001b[0m\n",
      "\u001b[1;31mWebDriverException\u001b[0m: Message: chrome not reachable\n  (Session info: chrome=78.0.3904.108)\n"
     ]
    }
   ],
   "source": [
    "event = wd.find_element_by_link_text(\"SEARCH\")\n",
    "event.click()\n",
    "blank_search = wd.find_elements_by_name(\"search_query\")\n",
    "#blank_search[1] and blank_search[2] is interactable\n",
    "\n",
    "blank_search[1].send_keys(\"\") # test whether ele is interactable\n",
    "blank_search[1].send_keys(Keys.RETURN) # go to https://www.slader.com/search/?search_query=\n",
    "\n",
    "search_ele = wd.find_element_by_id(\"search-input\") # find the search column\n",
    "for book in book_list:\n",
    "    search_ele.clear()\n",
    "    search_ele.send_keys(book)\n",
    "    time.sleep(1) # wait html change after send_keys\n",
    "    soup = bs(search_ele.find_element_by_xpath(\"//body\").get_attribute('outerHTML'))\n",
    "    \n",
    "    # get all books relative to keywords in book_list\n",
    "    for ele in soup.select(\".textbook-work-index-widget\"):\n",
    "        book_url.append(pendant + ele[\"data-url\"])\n",
    "    if len(book_url) == 0:\n",
    "        print(\"did not get any url, please check your keywords\")"
   ]
  },
  {
   "cell_type": "code",
   "execution_count": null,
   "metadata": {},
   "outputs": [],
   "source": [
    "for ele in book_url:\n",
    "    wd.get(ele)\n",
    "    time.sleep(1)\n",
    "    page_input = wd.find_element_by_xpath(\"//form[@class='textbook-page-search']/input[1]\") # find page input column\n",
    "    \n",
    "    # go to the first page\n",
    "    page_input.send_keys(\"1\") \n",
    "    page_input.send_keys(Keys.RETURN)\n",
    "    \n",
    "    # use request to get first_page (faster than selenium)\n",
    "    first_page_url = wd.current_url\n",
    "    try:\n",
    "        first_page_content = requests.get(first_page_url)\n",
    "    except:\n",
    "        print(\"requests error in : \" + first_page_url)\n",
    "    first_page_soup = bs(first_page_content.text, \"html.parser\")\n",
    "    \n",
    "    # find name of this book\n",
    "    book_name = first_page_soup.find(\"a\", {\"class\":\"textbook desktop\"}).get_text().strip()\n",
    "    ISBN = first_page_soup.find(\"section\", {\"class\":\"bottom-row\"}).get_text().strip().replace(\" \",\"\").replace(\":\",\"\").replace(\"/\",\"_\")\n",
    "    #print(book_name,\" \",ISBN)\n",
    "    \n",
    "    # find all pages have excercises in first page\n",
    "    section_menu = first_page_soup.find_all(\"option\",{\"class\":\"section-menu-item\"})\n",
    "    \n",
    "    # request all pages (include first page)\n",
    "    for page_data in section_menu:\n",
    "        page_url = pendant + page_data[\"data-url\"] # this page url\n",
    "        try:\n",
    "            page_content = requests.get(page_url)\n",
    "        except:\n",
    "            print(\"requests error in : \" + page_url)\n",
    "        page_soup = bs(page_content.text, \"html.parser\")\n",
    "        excercise = page_soup.find_all(\"div\",{\"class\":\"list-item unbound exercise-in-group-item \"}) # excercise in this page\n",
    "        \n",
    "        # find_page_num\n",
    "        page_num = \"page_\" + page_soup.select(\".textbook-page-search input\")[0][\"value\"]\n",
    "        \n",
    "        # handle all excercises in this page\n",
    "        for ex_url in excercise:\n",
    "            wd.get(pendant + ex_url[\"data-url\"]) # use selenium to go to each excercise\n",
    "            time.sleep(1)\n",
    "            \n",
    "            ex_soup = bs(wd.page_source)\n",
    "            ex_str = ex_soup.find_all(\"a\", {\"class\":\"bc\"})[-1].get_text().strip().replace(\" \", \"\")\n",
    "            \n",
    "            # get img of excercise and download it\n",
    "            img_num = 0\n",
    "            for ele in ex_soup.select(\".solution-content img\"):\n",
    "                img_url = ele[\"src\"]\n",
    "                img_name = book_name + \"_\" + ex_str + str(img_num)\n",
    "                store_path = \"{}{}{}{}{}{}{}{}\".format(file_path, os.sep, book_name, ISBN, os.sep, page_num, os.sep, ex_str)\n",
    "                check = download_img(store_path, img_name, img_url)\n",
    "                if check:\n",
    "                    img_num += 1\n",
    "            \n",
    "    time.sleep(1)"
   ]
  },
  {
   "cell_type": "code",
   "execution_count": null,
   "metadata": {},
   "outputs": [],
   "source": []
  },
  {
   "cell_type": "code",
   "execution_count": null,
   "metadata": {},
   "outputs": [],
   "source": []
  }
 ],
 "metadata": {
  "kernelspec": {
   "display_name": "Python 3",
   "language": "python",
   "name": "python3"
  },
  "language_info": {
   "codemirror_mode": {
    "name": "ipython",
    "version": 3
   },
   "file_extension": ".py",
   "mimetype": "text/x-python",
   "name": "python",
   "nbconvert_exporter": "python",
   "pygments_lexer": "ipython3",
   "version": "3.7.0"
  }
 },
 "nbformat": 4,
 "nbformat_minor": 2
}
